{
 "cells": [
  {
   "cell_type": "code",
   "execution_count": null,
   "metadata": {},
   "outputs": [],
   "source": [
    "import time\n",
    "import os\n",
    "os.chdir('/Users/lihaohan/Alpha_Research')\n",
    "import schedule\n",
    "from Data.CSMAR.engine import *\n",
    "from Data.utils import DButils\n",
    "db = DButils()"
   ]
  },
  {
   "cell_type": "code",
   "execution_count": null,
   "metadata": {},
   "outputs": [],
   "source": [
    "def everyday_run(CSMAR_BFQ, CSMAR_HFQ):\n",
    "    print('timer is running ' + time.strftime('%Y-%m-%d %H:%M:%S'))\n",
    "    schedule.every(1).hour.do(db.refresh)\n",
    "    schedule.every().day.at(\"17:00\").do(CSMAR_BFQ.update)\n",
    "    schedule.every().day.at(\"17:00\").do(CSMAR_HFQ.update)\n",
    "\n",
    "\n",
    "    while True:\n",
    "        schedule.run_pending()\n",
    "        time.sleep(1)"
   ]
  },
  {
   "cell_type": "code",
   "execution_count": null,
   "metadata": {},
   "outputs": [],
   "source": [
    "CSMAR_HFQ: Engine = HFQPVEngine()\n",
    "CSMAR_BFQ: Engine = BFQPVEngine()\n",
    "    \n",
    "everyday_run(CSMAR_BFQ, CSMAR_HFQ)"
   ]
  }
 ],
 "metadata": {
  "kernelspec": {
   "display_name": "Python 3",
   "language": "python",
   "name": "python3"
  },
  "language_info": {
   "codemirror_mode": {
    "name": "ipython",
    "version": 3
   },
   "file_extension": ".py",
   "mimetype": "text/x-python",
   "name": "python",
   "nbconvert_exporter": "python",
   "pygments_lexer": "ipython3",
   "version": "3.9.13"
  }
 },
 "nbformat": 4,
 "nbformat_minor": 2
}
