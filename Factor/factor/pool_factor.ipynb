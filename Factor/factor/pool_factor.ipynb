{
 "cells": [
  {
   "cell_type": "code",
   "execution_count": 1,
   "metadata": {},
   "outputs": [
    {
     "name": "stderr",
     "output_type": "stream",
     "text": [
      "\n",
      "A module that was compiled using NumPy 1.x cannot be run in\n",
      "NumPy 2.0.0 as it may crash. To support both 1.x and 2.x\n",
      "versions of NumPy, modules must be compiled with NumPy 2.0.\n",
      "Some module may need to rebuild instead e.g. with 'pybind11>=2.12'.\n",
      "\n",
      "If you are a user of the module, the easiest solution will be to\n",
      "downgrade to 'numpy<2' or try to upgrade the affected module.\n",
      "We expect that some modules will need time to support NumPy 2.\n",
      "\n",
      "Traceback (most recent call last):  File \"/Users/lihaohan/opt/anaconda3/lib/python3.9/runpy.py\", line 197, in _run_module_as_main\n",
      "    return _run_code(code, main_globals, None,\n",
      "  File \"/Users/lihaohan/opt/anaconda3/lib/python3.9/runpy.py\", line 87, in _run_code\n",
      "    exec(code, run_globals)\n",
      "  File \"/Users/lihaohan/opt/anaconda3/lib/python3.9/site-packages/ipykernel_launcher.py\", line 17, in <module>\n",
      "    app.launch_new_instance()\n",
      "  File \"/Users/lihaohan/opt/anaconda3/lib/python3.9/site-packages/traitlets/config/application.py\", line 846, in launch_instance\n",
      "    app.start()\n",
      "  File \"/Users/lihaohan/opt/anaconda3/lib/python3.9/site-packages/ipykernel/kernelapp.py\", line 712, in start\n",
      "    self.io_loop.start()\n",
      "  File \"/Users/lihaohan/opt/anaconda3/lib/python3.9/site-packages/tornado/platform/asyncio.py\", line 199, in start\n",
      "    self.asyncio_loop.run_forever()\n",
      "  File \"/Users/lihaohan/opt/anaconda3/lib/python3.9/asyncio/base_events.py\", line 601, in run_forever\n",
      "    self._run_once()\n",
      "  File \"/Users/lihaohan/opt/anaconda3/lib/python3.9/asyncio/base_events.py\", line 1905, in _run_once\n",
      "    handle._run()\n",
      "  File \"/Users/lihaohan/opt/anaconda3/lib/python3.9/asyncio/events.py\", line 80, in _run\n",
      "    self._context.run(self._callback, *self._args)\n",
      "  File \"/Users/lihaohan/opt/anaconda3/lib/python3.9/site-packages/ipykernel/kernelbase.py\", line 510, in dispatch_queue\n",
      "    await self.process_one()\n",
      "  File \"/Users/lihaohan/opt/anaconda3/lib/python3.9/site-packages/ipykernel/kernelbase.py\", line 499, in process_one\n",
      "    await dispatch(*args)\n",
      "  File \"/Users/lihaohan/opt/anaconda3/lib/python3.9/site-packages/ipykernel/kernelbase.py\", line 406, in dispatch_shell\n",
      "    await result\n",
      "  File \"/Users/lihaohan/opt/anaconda3/lib/python3.9/site-packages/ipykernel/kernelbase.py\", line 730, in execute_request\n",
      "    reply_content = await reply_content\n",
      "  File \"/Users/lihaohan/opt/anaconda3/lib/python3.9/site-packages/ipykernel/ipkernel.py\", line 390, in do_execute\n",
      "    res = shell.run_cell(code, store_history=store_history, silent=silent)\n",
      "  File \"/Users/lihaohan/opt/anaconda3/lib/python3.9/site-packages/ipykernel/zmqshell.py\", line 528, in run_cell\n",
      "    return super().run_cell(*args, **kwargs)\n",
      "  File \"/Users/lihaohan/opt/anaconda3/lib/python3.9/site-packages/IPython/core/interactiveshell.py\", line 2914, in run_cell\n",
      "    result = self._run_cell(\n",
      "  File \"/Users/lihaohan/opt/anaconda3/lib/python3.9/site-packages/IPython/core/interactiveshell.py\", line 2960, in _run_cell\n",
      "    return runner(coro)\n",
      "  File \"/Users/lihaohan/opt/anaconda3/lib/python3.9/site-packages/IPython/core/async_helpers.py\", line 78, in _pseudo_sync_runner\n",
      "    coro.send(None)\n",
      "  File \"/Users/lihaohan/opt/anaconda3/lib/python3.9/site-packages/IPython/core/interactiveshell.py\", line 3185, in run_cell_async\n",
      "    has_raised = await self.run_ast_nodes(code_ast.body, cell_name,\n",
      "  File \"/Users/lihaohan/opt/anaconda3/lib/python3.9/site-packages/IPython/core/interactiveshell.py\", line 3377, in run_ast_nodes\n",
      "    if (await self.run_code(code, result,  async_=asy)):\n",
      "  File \"/Users/lihaohan/opt/anaconda3/lib/python3.9/site-packages/IPython/core/interactiveshell.py\", line 3457, in run_code\n",
      "    exec(code_obj, self.user_global_ns, self.user_ns)\n",
      "  File \"/var/folders/t7/w_83l6_15xs529n5_m3v63x00000gn/T/ipykernel_83887/4276270373.py\", line 1, in <module>\n",
      "    import pandas as pd\n",
      "  File \"/Users/lihaohan/opt/anaconda3/lib/python3.9/site-packages/pandas/__init__.py\", line 49, in <module>\n",
      "    from pandas.core.api import (\n",
      "  File \"/Users/lihaohan/opt/anaconda3/lib/python3.9/site-packages/pandas/core/api.py\", line 28, in <module>\n",
      "    from pandas.core.arrays import Categorical\n",
      "  File \"/Users/lihaohan/opt/anaconda3/lib/python3.9/site-packages/pandas/core/arrays/__init__.py\", line 1, in <module>\n",
      "    from pandas.core.arrays.arrow import ArrowExtensionArray\n",
      "  File \"/Users/lihaohan/opt/anaconda3/lib/python3.9/site-packages/pandas/core/arrays/arrow/__init__.py\", line 5, in <module>\n",
      "    from pandas.core.arrays.arrow.array import ArrowExtensionArray\n",
      "  File \"/Users/lihaohan/opt/anaconda3/lib/python3.9/site-packages/pandas/core/arrays/arrow/array.py\", line 50, in <module>\n",
      "    from pandas.core import (\n",
      "  File \"/Users/lihaohan/opt/anaconda3/lib/python3.9/site-packages/pandas/core/ops/__init__.py\", line 8, in <module>\n",
      "    from pandas.core.ops.array_ops import (\n",
      "  File \"/Users/lihaohan/opt/anaconda3/lib/python3.9/site-packages/pandas/core/ops/array_ops.py\", line 56, in <module>\n",
      "    from pandas.core.computation import expressions\n",
      "  File \"/Users/lihaohan/opt/anaconda3/lib/python3.9/site-packages/pandas/core/computation/expressions.py\", line 21, in <module>\n",
      "    from pandas.core.computation.check import NUMEXPR_INSTALLED\n",
      "  File \"/Users/lihaohan/opt/anaconda3/lib/python3.9/site-packages/pandas/core/computation/check.py\", line 5, in <module>\n",
      "    ne = import_optional_dependency(\"numexpr\", errors=\"warn\")\n",
      "  File \"/Users/lihaohan/opt/anaconda3/lib/python3.9/site-packages/pandas/compat/_optional.py\", line 135, in import_optional_dependency\n",
      "    module = importlib.import_module(name)\n",
      "  File \"/Users/lihaohan/opt/anaconda3/lib/python3.9/importlib/__init__.py\", line 127, in import_module\n",
      "    return _bootstrap._gcd_import(name[level:], package, level)\n",
      "  File \"/Users/lihaohan/opt/anaconda3/lib/python3.9/site-packages/numexpr/__init__.py\", line 24, in <module>\n",
      "    from numexpr.interpreter import MAX_THREADS, use_vml, __BLOCK_SIZE1__\n"
     ]
    },
    {
     "ename": "AttributeError",
     "evalue": "_ARRAY_API not found",
     "output_type": "error",
     "traceback": [
      "\u001b[0;31m---------------------------------------------------------------------------\u001b[0m",
      "\u001b[0;31mAttributeError\u001b[0m                            Traceback (most recent call last)",
      "\u001b[0;31mAttributeError\u001b[0m: _ARRAY_API not found"
     ]
    },
    {
     "name": "stderr",
     "output_type": "stream",
     "text": [
      "\n",
      "A module that was compiled using NumPy 1.x cannot be run in\n",
      "NumPy 2.0.0 as it may crash. To support both 1.x and 2.x\n",
      "versions of NumPy, modules must be compiled with NumPy 2.0.\n",
      "Some module may need to rebuild instead e.g. with 'pybind11>=2.12'.\n",
      "\n",
      "If you are a user of the module, the easiest solution will be to\n",
      "downgrade to 'numpy<2' or try to upgrade the affected module.\n",
      "We expect that some modules will need time to support NumPy 2.\n",
      "\n",
      "Traceback (most recent call last):  File \"/Users/lihaohan/opt/anaconda3/lib/python3.9/runpy.py\", line 197, in _run_module_as_main\n",
      "    return _run_code(code, main_globals, None,\n",
      "  File \"/Users/lihaohan/opt/anaconda3/lib/python3.9/runpy.py\", line 87, in _run_code\n",
      "    exec(code, run_globals)\n",
      "  File \"/Users/lihaohan/opt/anaconda3/lib/python3.9/site-packages/ipykernel_launcher.py\", line 17, in <module>\n",
      "    app.launch_new_instance()\n",
      "  File \"/Users/lihaohan/opt/anaconda3/lib/python3.9/site-packages/traitlets/config/application.py\", line 846, in launch_instance\n",
      "    app.start()\n",
      "  File \"/Users/lihaohan/opt/anaconda3/lib/python3.9/site-packages/ipykernel/kernelapp.py\", line 712, in start\n",
      "    self.io_loop.start()\n",
      "  File \"/Users/lihaohan/opt/anaconda3/lib/python3.9/site-packages/tornado/platform/asyncio.py\", line 199, in start\n",
      "    self.asyncio_loop.run_forever()\n",
      "  File \"/Users/lihaohan/opt/anaconda3/lib/python3.9/asyncio/base_events.py\", line 601, in run_forever\n",
      "    self._run_once()\n",
      "  File \"/Users/lihaohan/opt/anaconda3/lib/python3.9/asyncio/base_events.py\", line 1905, in _run_once\n",
      "    handle._run()\n",
      "  File \"/Users/lihaohan/opt/anaconda3/lib/python3.9/asyncio/events.py\", line 80, in _run\n",
      "    self._context.run(self._callback, *self._args)\n",
      "  File \"/Users/lihaohan/opt/anaconda3/lib/python3.9/site-packages/ipykernel/kernelbase.py\", line 510, in dispatch_queue\n",
      "    await self.process_one()\n",
      "  File \"/Users/lihaohan/opt/anaconda3/lib/python3.9/site-packages/ipykernel/kernelbase.py\", line 499, in process_one\n",
      "    await dispatch(*args)\n",
      "  File \"/Users/lihaohan/opt/anaconda3/lib/python3.9/site-packages/ipykernel/kernelbase.py\", line 406, in dispatch_shell\n",
      "    await result\n",
      "  File \"/Users/lihaohan/opt/anaconda3/lib/python3.9/site-packages/ipykernel/kernelbase.py\", line 730, in execute_request\n",
      "    reply_content = await reply_content\n",
      "  File \"/Users/lihaohan/opt/anaconda3/lib/python3.9/site-packages/ipykernel/ipkernel.py\", line 390, in do_execute\n",
      "    res = shell.run_cell(code, store_history=store_history, silent=silent)\n",
      "  File \"/Users/lihaohan/opt/anaconda3/lib/python3.9/site-packages/ipykernel/zmqshell.py\", line 528, in run_cell\n",
      "    return super().run_cell(*args, **kwargs)\n",
      "  File \"/Users/lihaohan/opt/anaconda3/lib/python3.9/site-packages/IPython/core/interactiveshell.py\", line 2914, in run_cell\n",
      "    result = self._run_cell(\n",
      "  File \"/Users/lihaohan/opt/anaconda3/lib/python3.9/site-packages/IPython/core/interactiveshell.py\", line 2960, in _run_cell\n",
      "    return runner(coro)\n",
      "  File \"/Users/lihaohan/opt/anaconda3/lib/python3.9/site-packages/IPython/core/async_helpers.py\", line 78, in _pseudo_sync_runner\n",
      "    coro.send(None)\n",
      "  File \"/Users/lihaohan/opt/anaconda3/lib/python3.9/site-packages/IPython/core/interactiveshell.py\", line 3185, in run_cell_async\n",
      "    has_raised = await self.run_ast_nodes(code_ast.body, cell_name,\n",
      "  File \"/Users/lihaohan/opt/anaconda3/lib/python3.9/site-packages/IPython/core/interactiveshell.py\", line 3377, in run_ast_nodes\n",
      "    if (await self.run_code(code, result,  async_=asy)):\n",
      "  File \"/Users/lihaohan/opt/anaconda3/lib/python3.9/site-packages/IPython/core/interactiveshell.py\", line 3457, in run_code\n",
      "    exec(code_obj, self.user_global_ns, self.user_ns)\n",
      "  File \"/var/folders/t7/w_83l6_15xs529n5_m3v63x00000gn/T/ipykernel_83887/4276270373.py\", line 1, in <module>\n",
      "    import pandas as pd\n",
      "  File \"/Users/lihaohan/opt/anaconda3/lib/python3.9/site-packages/pandas/__init__.py\", line 49, in <module>\n",
      "    from pandas.core.api import (\n",
      "  File \"/Users/lihaohan/opt/anaconda3/lib/python3.9/site-packages/pandas/core/api.py\", line 28, in <module>\n",
      "    from pandas.core.arrays import Categorical\n",
      "  File \"/Users/lihaohan/opt/anaconda3/lib/python3.9/site-packages/pandas/core/arrays/__init__.py\", line 1, in <module>\n",
      "    from pandas.core.arrays.arrow import ArrowExtensionArray\n",
      "  File \"/Users/lihaohan/opt/anaconda3/lib/python3.9/site-packages/pandas/core/arrays/arrow/__init__.py\", line 5, in <module>\n",
      "    from pandas.core.arrays.arrow.array import ArrowExtensionArray\n",
      "  File \"/Users/lihaohan/opt/anaconda3/lib/python3.9/site-packages/pandas/core/arrays/arrow/array.py\", line 64, in <module>\n",
      "    from pandas.core.arrays.masked import BaseMaskedArray\n",
      "  File \"/Users/lihaohan/opt/anaconda3/lib/python3.9/site-packages/pandas/core/arrays/masked.py\", line 60, in <module>\n",
      "    from pandas.core import (\n",
      "  File \"/Users/lihaohan/opt/anaconda3/lib/python3.9/site-packages/pandas/core/nanops.py\", line 52, in <module>\n",
      "    bn = import_optional_dependency(\"bottleneck\", errors=\"warn\")\n",
      "  File \"/Users/lihaohan/opt/anaconda3/lib/python3.9/site-packages/pandas/compat/_optional.py\", line 135, in import_optional_dependency\n",
      "    module = importlib.import_module(name)\n",
      "  File \"/Users/lihaohan/opt/anaconda3/lib/python3.9/importlib/__init__.py\", line 127, in import_module\n",
      "    return _bootstrap._gcd_import(name[level:], package, level)\n",
      "  File \"/Users/lihaohan/opt/anaconda3/lib/python3.9/site-packages/bottleneck/__init__.py\", line 7, in <module>\n",
      "    from .move import (move_argmax, move_argmin, move_max, move_mean, move_median,\n"
     ]
    },
    {
     "ename": "AttributeError",
     "evalue": "_ARRAY_API not found",
     "output_type": "error",
     "traceback": [
      "\u001b[0;31m---------------------------------------------------------------------------\u001b[0m",
      "\u001b[0;31mAttributeError\u001b[0m                            Traceback (most recent call last)",
      "\u001b[0;31mAttributeError\u001b[0m: _ARRAY_API not found"
     ]
    }
   ],
   "source": [
    "import pandas as pd\n",
    "import numpy as np\n",
    "import os\n",
    "os.chdir('/Users/lihaohan/Alpha_Research')\n",
    "from Data.utils import DButils\n",
    "from tqdm import tqdm"
   ]
  },
  {
   "cell_type": "code",
   "execution_count": 2,
   "metadata": {},
   "outputs": [],
   "source": [
    "db = DButils()"
   ]
  },
  {
   "cell_type": "code",
   "execution_count": 3,
   "metadata": {},
   "outputs": [],
   "source": [
    "db.cursor.execute('select * from st')\n",
    "st = db.cursor.fetchall()\n",
    "st = pd.DataFrame(st, columns=['code', 'date', 'st'])\n",
    "st.sort_values(by=['code', 'date'], inplace=True)\n",
    "\n",
    "db.cursor.execute('select * from limit_status')\n",
    "limit_status = db.cursor.fetchall()\n",
    "limit_status = pd.DataFrame(limit_status, columns=['code', 'date', 'limit_status'])\n",
    "limit_status.sort_values(by=['code', 'date'], inplace=True)\n",
    "\n",
    "db.cursor.execute('select * from suspend')\n",
    "suspend = db.cursor.fetchall()\n",
    "suspend = pd.DataFrame(suspend, columns=['code', 'date', 'suspend'])\n",
    "suspend.sort_values(by=['code', 'date'], inplace=True)"
   ]
  },
  {
   "cell_type": "code",
   "execution_count": 4,
   "metadata": {},
   "outputs": [],
   "source": [
    "from tqdm import tqdm"
   ]
  },
  {
   "cell_type": "code",
   "execution_count": 5,
   "metadata": {},
   "outputs": [],
   "source": [
    "data_path = '/Volumes/T7Shield/Alpha_Research/成交量分布因子'\n",
    "files = os.listdir('/Volumes/T7Shield/Alpha_Research/成交量分布因子')"
   ]
  },
  {
   "cell_type": "code",
   "execution_count": 6,
   "metadata": {},
   "outputs": [],
   "source": [
    "def filter_st(st, data):\n",
    "    factor_name = data.columns[-1]\n",
    "    data = pd.merge(data, st, on=['code', 'date'], how='left')\n",
    "    data['tmp_factor'] = np.where(data['st'] == 0, np.nan, data[factor_name])\n",
    "    return data[['code', 'date', 'tmp_factor']]\n",
    "\n",
    "def filter_limit(limit_status, data):\n",
    "    factor_name = data.columns[-1]\n",
    "    data = pd.merge(data, limit_status, on=['code', 'date'], how='left')\n",
    "    data['tmp_factor'] = np.where(data['limit_status'] == 0, np.nan, data[factor_name])\n",
    "    return data[['code', 'date', 'tmp_factor']]\n",
    "\n",
    "def filter_suspend(suspend, data):\n",
    "    factor_name = data.columns[-1]\n",
    "    data = pd.merge(data, suspend, on=['code', 'date'], how='left')\n",
    "    data['tmp_factor'] = np.where(data['suspend'] == 0, np.nan, data[factor_name])\n",
    "    return data[['code', 'date', 'tmp_factor']]"
   ]
  },
  {
   "cell_type": "code",
   "execution_count": 7,
   "metadata": {},
   "outputs": [
    {
     "name": "stderr",
     "output_type": "stream",
     "text": [
      " 41%|████      | 9/22 [12:30<14:48, 68.33s/it] "
     ]
    },
    {
     "name": "stdout",
     "output_type": "stream",
     "text": [
      "early_noon_vol_ratio.pkl failed\n"
     ]
    },
    {
     "name": "stderr",
     "output_type": "stream",
     "text": [
      "100%|██████████| 22/22 [16:25<00:00, 44.82s/it]\n"
     ]
    }
   ],
   "source": [
    "save_path = '/Volumes/T7Shield/Alpha_Research/tmp_factor'\n",
    "\n",
    "for file in tqdm(files):\n",
    "    if file.startswith('._'):\n",
    "        continue\n",
    "    try:\n",
    "        factor = pd.read_pickle(os.path.join(data_path, file))\n",
    "        factor['date'] = pd.to_datetime(factor['date']).dt.strftime('%Y-%m-%d')\n",
    "        factor = filter_st(st, factor)\n",
    "        factor = filter_limit(limit_status, factor)\n",
    "        factor = filter_suspend(suspend, factor)\n",
    "        factor.to_pickle(os.path.join(save_path, file))\n",
    "    except:\n",
    "        print(f'{file} failed')"
   ]
  },
  {
   "cell_type": "code",
   "execution_count": 8,
   "metadata": {},
   "outputs": [
    {
     "name": "stderr",
     "output_type": "stream",
     "text": [
      "100%|██████████| 52/52 [35:05<00:00, 40.49s/it]   "
     ]
    },
    {
     "name": "stdout",
     "output_type": "stream",
     "text": [
      "._vol_foc.pkl failed\n",
      "._rtn_foc.pkl failed\n",
      "._foc_comb.pkl failed\n",
      "._rtn_DW.pkl failed\n",
      "._vol_DW.pkl failed\n",
      "._DW_comb.pkl failed\n",
      "._rtn_rho.pkl failed\n",
      "._vol_rho.pkl failed\n",
      "._rho_comb.pkl failed\n",
      "._rtn_LBQ.pkl failed\n",
      "._vol_LBQ.pkl failed\n",
      "._LBQ_Comb.pkl failed\n",
      "._highStdRtn_mean.pkl failed\n",
      "._hpos.pkl failed\n",
      "._tvr.pkl failed\n",
      "._pvi.pkl failed\n",
      "._varr.pkl failed\n",
      "._pvcorr.pkl failed\n",
      "._icp.pkl failed\n",
      "._r1min_skew.pkl failed\n",
      "._trendratio.pkl failed\n",
      "._vov.pkl failed\n",
      "._SM_1.pkl failed\n",
      "._SM_2.pkl failed\n",
      "._SM_3.pkl failed\n",
      "._SM_4.pkl failed\n"
     ]
    },
    {
     "name": "stderr",
     "output_type": "stream",
     "text": [
      "\n"
     ]
    }
   ],
   "source": [
    "data_path = '/Volumes/T7Shield/Alpha_Research/时序信息因子'\n",
    "files = os.listdir('/Volumes/T7Shield/Alpha_Research/时序信息因子')\n",
    "\n",
    "save_path = '/Volumes/T7Shield/Alpha_Research/tmp_factor'\n",
    "\n",
    "for file in tqdm(files):\n",
    "    try:\n",
    "        factor = pd.read_pickle(os.path.join(data_path, file))\n",
    "        factor['date'] = pd.to_datetime(factor['date']).dt.strftime('%Y-%m-%d')\n",
    "        factor = filter_st(st, factor)\n",
    "        factor = filter_limit(limit_status, factor)\n",
    "        factor = filter_suspend(suspend, factor)\n",
    "        factor.to_pickle(os.path.join(save_path, file))\n",
    "    except:\n",
    "        print(f'{file} failed')"
   ]
  },
  {
   "cell_type": "code",
   "execution_count": 9,
   "metadata": {},
   "outputs": [
    {
     "name": "stderr",
     "output_type": "stream",
     "text": [
      "100%|██████████| 32/32 [15:55<00:00, 29.86s/it]"
     ]
    },
    {
     "name": "stdout",
     "output_type": "stream",
     "text": [
      "._real_var.pkl failed\n",
      "._rv_up.pkl failed\n",
      "._rv_down.pkl failed\n",
      "._rv_umd.pkl failed\n",
      "._rtn_skew.pkl failed\n",
      "._rtn_kurt.pkl failed\n",
      "._rtn5_mean.pkl failed\n",
      "._nos.pkl failed\n",
      "._exRtn_minVal.pkl failed\n",
      "._exRtn_minFre.pkl failed\n",
      "._exRtn_maxVal.pkl failed\n",
      "._exRtn_maxFre.pkl failed\n",
      "._gmm_mean.pkl failed\n",
      "._gmm_mean2wgt.pkl failed\n",
      "._gmm_meandif.pkl failed\n",
      "._gmm_meandif2wgtdif.pkl failed\n"
     ]
    },
    {
     "name": "stderr",
     "output_type": "stream",
     "text": [
      "\n"
     ]
    }
   ],
   "source": [
    "data_path = '/Volumes/T7Shield/Alpha_Research/收益率分布因子'\n",
    "files = os.listdir('/Volumes/T7Shield/Alpha_Research/收益率分布因子')\n",
    "\n",
    "save_path = '/Volumes/T7Shield/Alpha_Research/tmp_factor'\n",
    "\n",
    "for file in tqdm(files):\n",
    "    try:\n",
    "        factor = pd.read_pickle(os.path.join(data_path, file))\n",
    "        factor['date'] = pd.to_datetime(factor['date']).dt.strftime('%Y-%m-%d')\n",
    "        factor = filter_st(st, factor)\n",
    "        factor = filter_limit(limit_status, factor)\n",
    "        factor = filter_suspend(suspend, factor)\n",
    "        factor.to_pickle(os.path.join(save_path, file))\n",
    "    except:\n",
    "        print(f'{file} failed')"
   ]
  },
  {
   "cell_type": "code",
   "execution_count": 10,
   "metadata": {},
   "outputs": [],
   "source": [
    "data_path = '/Volumes/T7Shield/Alpha_Research/tmp_factor'\n",
    "save_path = '/Volumes/T7Shield/Alpha_Research/done_factor'"
   ]
  },
  {
   "cell_type": "code",
   "execution_count": 14,
   "metadata": {},
   "outputs": [
    {
     "data": {
      "text/html": [
       "<div>\n",
       "<style scoped>\n",
       "    .dataframe tbody tr th:only-of-type {\n",
       "        vertical-align: middle;\n",
       "    }\n",
       "\n",
       "    .dataframe tbody tr th {\n",
       "        vertical-align: top;\n",
       "    }\n",
       "\n",
       "    .dataframe thead th {\n",
       "        text-align: right;\n",
       "    }\n",
       "</style>\n",
       "<table border=\"1\" class=\"dataframe\">\n",
       "  <thead>\n",
       "    <tr style=\"text-align: right;\">\n",
       "      <th></th>\n",
       "      <th>code</th>\n",
       "      <th>date</th>\n",
       "      <th>tmp_factor</th>\n",
       "    </tr>\n",
       "  </thead>\n",
       "  <tbody>\n",
       "    <tr>\n",
       "      <th>0</th>\n",
       "      <td>000001</td>\n",
       "      <td>2018-01-02</td>\n",
       "      <td>-11.052269</td>\n",
       "    </tr>\n",
       "    <tr>\n",
       "      <th>1</th>\n",
       "      <td>000001</td>\n",
       "      <td>2018-01-03</td>\n",
       "      <td>-11.518387</td>\n",
       "    </tr>\n",
       "    <tr>\n",
       "      <th>2</th>\n",
       "      <td>000001</td>\n",
       "      <td>2018-01-04</td>\n",
       "      <td>-10.796422</td>\n",
       "    </tr>\n",
       "    <tr>\n",
       "      <th>3</th>\n",
       "      <td>000001</td>\n",
       "      <td>2018-01-05</td>\n",
       "      <td>-10.654594</td>\n",
       "    </tr>\n",
       "    <tr>\n",
       "      <th>4</th>\n",
       "      <td>000001</td>\n",
       "      <td>2018-01-08</td>\n",
       "      <td>-12.186086</td>\n",
       "    </tr>\n",
       "    <tr>\n",
       "      <th>...</th>\n",
       "      <td>...</td>\n",
       "      <td>...</td>\n",
       "      <td>...</td>\n",
       "    </tr>\n",
       "    <tr>\n",
       "      <th>7513761</th>\n",
       "      <td>920128</td>\n",
       "      <td>2025-01-21</td>\n",
       "      <td>-1.603047</td>\n",
       "    </tr>\n",
       "    <tr>\n",
       "      <th>7513762</th>\n",
       "      <td>920128</td>\n",
       "      <td>2025-01-22</td>\n",
       "      <td>-1.650055</td>\n",
       "    </tr>\n",
       "    <tr>\n",
       "      <th>7513763</th>\n",
       "      <td>920128</td>\n",
       "      <td>2025-01-23</td>\n",
       "      <td>-1.127775</td>\n",
       "    </tr>\n",
       "    <tr>\n",
       "      <th>7513764</th>\n",
       "      <td>920128</td>\n",
       "      <td>2025-01-24</td>\n",
       "      <td>-1.241256</td>\n",
       "    </tr>\n",
       "    <tr>\n",
       "      <th>7513765</th>\n",
       "      <td>920128</td>\n",
       "      <td>2025-01-27</td>\n",
       "      <td>-0.790737</td>\n",
       "    </tr>\n",
       "  </tbody>\n",
       "</table>\n",
       "<p>7058029 rows × 3 columns</p>\n",
       "</div>"
      ],
      "text/plain": [
       "           code        date  tmp_factor\n",
       "0        000001  2018-01-02  -11.052269\n",
       "1        000001  2018-01-03  -11.518387\n",
       "2        000001  2018-01-04  -10.796422\n",
       "3        000001  2018-01-05  -10.654594\n",
       "4        000001  2018-01-08  -12.186086\n",
       "...         ...         ...         ...\n",
       "7513761  920128  2025-01-21   -1.603047\n",
       "7513762  920128  2025-01-22   -1.650055\n",
       "7513763  920128  2025-01-23   -1.127775\n",
       "7513764  920128  2025-01-24   -1.241256\n",
       "7513765  920128  2025-01-27   -0.790737\n",
       "\n",
       "[7058029 rows x 3 columns]"
      ]
     },
     "execution_count": 14,
     "metadata": {},
     "output_type": "execute_result"
    }
   ],
   "source": [
    "a = pd.read_pickle('/Volumes/T7Shield/Alpha_Research/tmp_factor/logvol_skew.pkl')\n",
    "a = a.dropna(subset=['tmp_factor'])\n",
    "a"
   ]
  },
  {
   "cell_type": "code",
   "execution_count": 15,
   "metadata": {},
   "outputs": [],
   "source": [
    "b = a.copy()"
   ]
  },
  {
   "cell_type": "code",
   "execution_count": 16,
   "metadata": {},
   "outputs": [
    {
     "data": {
      "text/html": [
       "<div>\n",
       "<style scoped>\n",
       "    .dataframe tbody tr th:only-of-type {\n",
       "        vertical-align: middle;\n",
       "    }\n",
       "\n",
       "    .dataframe tbody tr th {\n",
       "        vertical-align: top;\n",
       "    }\n",
       "\n",
       "    .dataframe thead th {\n",
       "        text-align: right;\n",
       "    }\n",
       "</style>\n",
       "<table border=\"1\" class=\"dataframe\">\n",
       "  <thead>\n",
       "    <tr style=\"text-align: right;\">\n",
       "      <th></th>\n",
       "      <th>code</th>\n",
       "      <th>date</th>\n",
       "      <th>tmp_factor</th>\n",
       "      <th>factor</th>\n",
       "    </tr>\n",
       "  </thead>\n",
       "  <tbody>\n",
       "    <tr>\n",
       "      <th>0</th>\n",
       "      <td>000001</td>\n",
       "      <td>2018-01-02</td>\n",
       "      <td>-11.052269</td>\n",
       "      <td>NaN</td>\n",
       "    </tr>\n",
       "    <tr>\n",
       "      <th>1</th>\n",
       "      <td>000001</td>\n",
       "      <td>2018-01-03</td>\n",
       "      <td>-11.518387</td>\n",
       "      <td>NaN</td>\n",
       "    </tr>\n",
       "    <tr>\n",
       "      <th>2</th>\n",
       "      <td>000001</td>\n",
       "      <td>2018-01-04</td>\n",
       "      <td>-10.796422</td>\n",
       "      <td>NaN</td>\n",
       "    </tr>\n",
       "    <tr>\n",
       "      <th>3</th>\n",
       "      <td>000001</td>\n",
       "      <td>2018-01-05</td>\n",
       "      <td>-10.654594</td>\n",
       "      <td>NaN</td>\n",
       "    </tr>\n",
       "    <tr>\n",
       "      <th>4</th>\n",
       "      <td>000001</td>\n",
       "      <td>2018-01-08</td>\n",
       "      <td>-12.186086</td>\n",
       "      <td>NaN</td>\n",
       "    </tr>\n",
       "    <tr>\n",
       "      <th>...</th>\n",
       "      <td>...</td>\n",
       "      <td>...</td>\n",
       "      <td>...</td>\n",
       "      <td>...</td>\n",
       "    </tr>\n",
       "    <tr>\n",
       "      <th>7513761</th>\n",
       "      <td>920128</td>\n",
       "      <td>2025-01-21</td>\n",
       "      <td>-1.603047</td>\n",
       "      <td>-2.791134</td>\n",
       "    </tr>\n",
       "    <tr>\n",
       "      <th>7513762</th>\n",
       "      <td>920128</td>\n",
       "      <td>2025-01-22</td>\n",
       "      <td>-1.650055</td>\n",
       "      <td>-2.711863</td>\n",
       "    </tr>\n",
       "    <tr>\n",
       "      <th>7513763</th>\n",
       "      <td>920128</td>\n",
       "      <td>2025-01-23</td>\n",
       "      <td>-1.127775</td>\n",
       "      <td>-2.638876</td>\n",
       "    </tr>\n",
       "    <tr>\n",
       "      <th>7513764</th>\n",
       "      <td>920128</td>\n",
       "      <td>2025-01-24</td>\n",
       "      <td>-1.241256</td>\n",
       "      <td>-2.550584</td>\n",
       "    </tr>\n",
       "    <tr>\n",
       "      <th>7513765</th>\n",
       "      <td>920128</td>\n",
       "      <td>2025-01-27</td>\n",
       "      <td>-0.790737</td>\n",
       "      <td>-2.480139</td>\n",
       "    </tr>\n",
       "  </tbody>\n",
       "</table>\n",
       "<p>7058029 rows × 4 columns</p>\n",
       "</div>"
      ],
      "text/plain": [
       "           code        date  tmp_factor    factor\n",
       "0        000001  2018-01-02  -11.052269       NaN\n",
       "1        000001  2018-01-03  -11.518387       NaN\n",
       "2        000001  2018-01-04  -10.796422       NaN\n",
       "3        000001  2018-01-05  -10.654594       NaN\n",
       "4        000001  2018-01-08  -12.186086       NaN\n",
       "...         ...         ...         ...       ...\n",
       "7513761  920128  2025-01-21   -1.603047 -2.791134\n",
       "7513762  920128  2025-01-22   -1.650055 -2.711863\n",
       "7513763  920128  2025-01-23   -1.127775 -2.638876\n",
       "7513764  920128  2025-01-24   -1.241256 -2.550584\n",
       "7513765  920128  2025-01-27   -0.790737 -2.480139\n",
       "\n",
       "[7058029 rows x 4 columns]"
      ]
     },
     "execution_count": 16,
     "metadata": {},
     "output_type": "execute_result"
    }
   ],
   "source": [
    "b['factor'] = b.groupby('code')['tmp_factor'].rolling(20).mean().values\n",
    "b"
   ]
  },
  {
   "cell_type": "code",
   "execution_count": 26,
   "metadata": {},
   "outputs": [
    {
     "name": "stderr",
     "output_type": "stream",
     "text": [
      "100%|██████████| 104/104 [06:55<00:00,  3.99s/it]\n"
     ]
    }
   ],
   "source": [
    "files = os.listdir(data_path)\n",
    "for file in tqdm(files):\n",
    "    if file.startswith('._'):\n",
    "        continue\n",
    "    try:\n",
    "        factor = pd.read_pickle(os.path.join(data_path, file))\n",
    "        factor = factor.dropna(subset=['tmp_factor'])\n",
    "        factor['factor'] = factor.groupby('code')['tmp_factor'].rolling(20).mean().values\n",
    "        factor = factor[['code', 'date', 'factor']]\n",
    "        factor.to_pickle(os.path.join(save_path, file))\n",
    "    except:\n",
    "        print(f'{file} failed')"
   ]
  },
  {
   "cell_type": "code",
   "execution_count": 2,
   "metadata": {},
   "outputs": [
    {
     "data": {
      "text/plain": [
       "[[1, 1, 1, 1, 1, 1, 1, 1, 1, 1],\n",
       " [2, 2, 2, 2, 2, 2, 2, 2, 2, 2],\n",
       " [3, 3, 3, 3, 3, 3, 3, 3, 3, 3],\n",
       " [4, 4, 4, 4, 4, 4, 4, 4, 4, 4],\n",
       " [5, 5, 5, 5, 5, 5, 5, 5, 5, 5],\n",
       " [6, 6, 6, 6, 6, 6, 6, 6, 6, 6],\n",
       " [7, 7, 7, 7, 7, 7, 7, 7, 7, 7],\n",
       " [8, 8, 8, 8, 8, 8, 8, 8, 8, 8],\n",
       " [9, 9, 9, 9, 9, 9, 9, 9, 9, 9],\n",
       " [10, 10, 10, 10, 10, 10, 10, 10, 10, 10]]"
      ]
     },
     "execution_count": 2,
     "metadata": {},
     "output_type": "execute_result"
    }
   ],
   "source": [
    "groups_num = 10\n",
    "each_group = 10\n",
    "l = list(\n",
    "        map(\n",
    "            lambda x, y: [x] * y,\n",
    "            list(range(1, groups_num + 1)),\n",
    "            [each_group] * groups_num,\n",
    "        )\n",
    "    )\n",
    "l"
   ]
  }
 ],
 "metadata": {
  "kernelspec": {
   "display_name": "Python 3",
   "language": "python",
   "name": "python3"
  },
  "language_info": {
   "codemirror_mode": {
    "name": "ipython",
    "version": 3
   },
   "file_extension": ".py",
   "mimetype": "text/x-python",
   "name": "python",
   "nbconvert_exporter": "python",
   "pygments_lexer": "ipython3",
   "version": "3.9.13"
  }
 },
 "nbformat": 4,
 "nbformat_minor": 2
}
